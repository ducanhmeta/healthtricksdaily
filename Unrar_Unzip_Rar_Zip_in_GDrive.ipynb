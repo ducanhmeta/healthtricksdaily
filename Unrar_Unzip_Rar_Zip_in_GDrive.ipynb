{
  "nbformat": 4,
  "nbformat_minor": 0,
  "metadata": {
    "colab": {
      "name": "Unrar, Unzip, Untar Rar, Zip, Tar in GDrive",
      "provenance": [],
      "collapsed_sections": [
        "CFFPQjl-iX0m",
        "hi4f8Ba-diVf",
        "bAls_UEYfwIX",
        "IoAshgcf45gs",
        "o1PFiGyMAMvg",
        "mOnUdLJqVaYA",
        "VKdYIG49VaYA",
        "BjYXYIk0VaYE",
        "Dm58cAVSAFbr"
      ],
      "include_colab_link": true
    },
    "kernelspec": {
      "name": "python3",
      "display_name": "Python 3"
    },
    "accelerator": "GPU"
  },
  "cells": [
    {
      "cell_type": "markdown",
      "metadata": {
        "id": "view-in-github",
        "colab_type": "text"
      },
      "source": [
        "<a href=\"https://colab.research.google.com/github/ducanhmeta/healthtricksdaily/blob/main/Unrar_Unzip_Rar_Zip_in_GDrive.ipynb\" target=\"_parent\"><img src=\"https://colab.research.google.com/assets/colab-badge.svg\" alt=\"Open In Colab\"/></a>"
      ]
    },
    {
      "cell_type": "markdown",
      "metadata": {
        "id": "rlX9RzFJRoW-"
      },
      "source": [
        "# **<font color='blue'> Compress/Decompress Files in Google Drive - Created by [Cheems](https://github.com/cheems) </font>**\n"
      ]
    },
    {
      "cell_type": "markdown",
      "metadata": {
        "id": "tdHkmd6olkGV"
      },
      "source": [
        "## **<font color=\"red\">Important note</font> - After doing all the steps, please note that depending on your file size of the Zip and Rar files, it may take a while to show up in your Google Drive. Please be patient. Eventually, it will show up in your drive.**\n",
        "###**<font color=\"red\">For larger files</font> - it may take some time to show up in your Google Drive. Do not rerun the code if it doesn't show up fast. Just keep refreshing your Google Drive page to see if it shows up**\n",
        "###**<font color=\"red\">For small files</font> - it will show up quicker in your Google Drive. Just wait until it shows up. Just keep refreshing your page to see if it shows up**\n",
        "###**<font color=\"red\">Update</font> - added some features**\n",
        "* Extract/create password protected rar files\n",
        "* Extract/create tar/tar.gz/tar/bz files\n"
      ]
    },
    {
      "cell_type": "markdown",
      "metadata": {
        "id": "CFFPQjl-iX0m"
      },
      "source": [
        "#__Mount GDrive to /content/drive__"
      ]
    },
    {
      "cell_type": "code",
      "metadata": {
        "id": "TfWtGXmqbggL",
        "cellView": "form",
        "colab": {
          "base_uri": "https://localhost:8080/"
        },
        "outputId": "fd69005e-3bd6-4c14-df02-9cf82e7ee4ee"
      },
      "source": [
        "#@markdown <br><center><img src='https://upload.wikimedia.org/wikipedia/commons/thumb/d/da/Google_Drive_logo.png/600px-Google_Drive_logo.png' height=\"50\" alt=\"Gdrive-logo\"/></center>\n",
        "#@markdown <center><h3>Mount GDrive to /content/drive</h3></center><br>\n",
        "MODE = \"MOUNT\" #@param [\"MOUNT\", \"UNMOUNT\"]\n",
        "#Mount your Gdrive!\n",
        "from google.colab import drive\n",
        "drive.mount._DEBUG = False\n",
        "if MODE == \"MOUNT\":\n",
        "  drive.mount('/content/drive', force_remount=True)\n",
        "elif MODE == \"UNMOUNT\":\n",
        "  try:\n",
        "    drive.flush_and_unmount()\n",
        "  except ValueError:\n",
        "    pass\n",
        "  get_ipython().system_raw(\"rm -rf /root/.config/Google/DriveFS\")"
      ],
      "execution_count": 1,
      "outputs": [
        {
          "output_type": "stream",
          "name": "stdout",
          "text": [
            "Mounted at /content/drive\n"
          ]
        }
      ]
    },
    {
      "cell_type": "markdown",
      "metadata": {
        "id": "hi4f8Ba-diVf"
      },
      "source": [
        "#__Unzip/Unrar/Untar Files__"
      ]
    },
    {
      "cell_type": "markdown",
      "metadata": {
        "id": "bAls_UEYfwIX"
      },
      "source": [
        "##__Unzip Files__\n",
        "\n"
      ]
    },
    {
      "cell_type": "markdown",
      "metadata": {
        "id": "o_zFmom9fWNW"
      },
      "source": [
        "*   First path in below cell - Your Google Drive file location which you want to Unzip\n",
        "*   Second path in below cell - Path where you want to extract the zip file in Google Drive"
      ]
    },
    {
      "cell_type": "code",
      "metadata": {
        "id": "O1_kc7HBeslm",
        "cellView": "both"
      },
      "source": [
        "!unzip \"/content/drive/path/input_file_name.zip\" -d \"/content/drive/path/output_folder/\""
      ],
      "execution_count": null,
      "outputs": []
    },
    {
      "cell_type": "markdown",
      "metadata": {
        "id": "IoAshgcf45gs"
      },
      "source": [
        "##__Unrar Files</center>__\n",
        "\n",
        "\n",
        "\n"
      ]
    },
    {
      "cell_type": "markdown",
      "metadata": {
        "id": "Z1Ql6FiDdBYW"
      },
      "source": [
        "*   First path in below cell - Your Google Drive file location which you want to Unrar\n",
        "*   Second path in below cell - Path where you want to extract the rar file in Google Drive\n",
        "\n",
        "*If you want to extract a password protected rar file, then add \"-Y\" flag or Use this command instead of the command in the cell\n",
        "(replace the command with the command in the cell)*\n",
        "\n",
        "* ```\n",
        "!unrar x -Y \"/content/drive/path/input_file_name.rar\" \"/content/drive/path/output_folder/\"\n",
        "```\n",
        "\n",
        "\n",
        "\n"
      ]
    },
    {
      "cell_type": "code",
      "metadata": {
        "id": "5ScZvnCdzKm3",
        "cellView": "both"
      },
      "source": [
        "!unrar x \"/content/drive/path/input_file_name.rar\" \"/content/drive/path/output_folder/\""
      ],
      "execution_count": null,
      "outputs": []
    },
    {
      "cell_type": "markdown",
      "metadata": {
        "id": "o1PFiGyMAMvg"
      },
      "source": [
        "##__Untar Files__\n",
        "\n"
      ]
    },
    {
      "cell_type": "markdown",
      "metadata": {
        "id": "sBWJzqQtAMvg"
      },
      "source": [
        "*   First path in below cell - Your Google Drive file location which you want to Untar\n",
        "*   Second path in below cell - Path where you want to extract the tar file in Google Drive\n",
        "\n",
        " *__Flags__*\n",
        "\n",
        " * -x : Extract a tar ball.\n",
        " * -v : Verbose output or show progress while extracting files.\n",
        " * -f : Specify an archive or a tarball filename.\n",
        " * -C : Specify a different directory to extract\n",
        " * -z : Decompress and extract the contents of the compressed archive created by gzip program (tar.gz extension).\n",
        " * -j : Decompress and extract the contents of the compressed archive created by bzip2 program (tar.bz2 extension)."
      ]
    },
    {
      "cell_type": "code",
      "metadata": {
        "cellView": "both",
        "id": "EKjIowyWAMvh"
      },
      "source": [
        "!tar -xvf \"/content/drive/path/input_file_name.tar\" -C \"/content/drive/path/output_folder/\"     #[run this cell to extract tar files]"
      ],
      "execution_count": null,
      "outputs": []
    },
    {
      "cell_type": "code",
      "metadata": {
        "id": "YfSkw7IFH2pl"
      },
      "source": [
        "!tar -xzvf \"/content/drive/path/input_file_name.tar.gz\" -C \"/content/drive/path/output_folder/\"     #[run this cell to extract tar.gz files]"
      ],
      "execution_count": null,
      "outputs": []
    },
    {
      "cell_type": "code",
      "metadata": {
        "id": "tVaZLH-hH54z"
      },
      "source": [
        "!tar -xjvf \"/content/drive/path/input_file_name.tar.bz2\" -C \"/content/drive/path/output_folder/\"     #[run this cell to extract tar.bz2 files]"
      ],
      "execution_count": null,
      "outputs": []
    },
    {
      "cell_type": "markdown",
      "metadata": {
        "id": "mOnUdLJqVaYA"
      },
      "source": [
        "#__Zip/Rar/Tar Files/Folders__"
      ]
    },
    {
      "cell_type": "markdown",
      "metadata": {
        "id": "VKdYIG49VaYA"
      },
      "source": [
        "##__Zip Files/Folders__\n",
        "\n"
      ]
    },
    {
      "cell_type": "markdown",
      "metadata": {
        "id": "n_x6sSnoVaYB"
      },
      "source": [
        "*   First path in below cell - Your Zip output filename\n",
        "*   Second path in below cell - Google Drive file location of the files which you want to Zip"
      ]
    },
    {
      "cell_type": "code",
      "metadata": {
        "cellView": "both",
        "id": "zZ4DrMhmVaYB",
        "colab": {
          "base_uri": "https://localhost:8080/"
        },
        "outputId": "0c9be1e6-b3bb-4439-fa5a-628e010a8ebf"
      },
      "source": [
        "!zip \"/content/drive/path/output_file_name.zip\" \"/content/drive/My Drive/Tutorial/games\""
      ],
      "execution_count": 14,
      "outputs": [
        {
          "output_type": "stream",
          "name": "stdout",
          "text": [
            "\tzip warning: name not matched: /content/drive/My Drive/Tutorial/games\n",
            "\n",
            "zip error: Nothing to do! (/content/drive/path/output_file_name.zip)\n"
          ]
        }
      ]
    },
    {
      "cell_type": "markdown",
      "metadata": {
        "id": "BjYXYIk0VaYE"
      },
      "source": [
        "##__Rar Files/Folders__\n",
        "\n",
        "\n",
        "\n"
      ]
    },
    {
      "cell_type": "code",
      "metadata": {
        "id": "lNeNaDMSWHFI",
        "colab": {
          "base_uri": "https://localhost:8080/"
        },
        "outputId": "1e5220f7-12f4-4c98-ed43-a8c3f237c788"
      },
      "source": [
        "# <= Click this cell to rar the folder\n",
        "\n",
        "!apt-get install rar"
      ],
      "execution_count": 22,
      "outputs": [
        {
          "output_type": "stream",
          "name": "stdout",
          "text": [
            "Reading package lists... Done\n",
            "Building dependency tree... Done\n",
            "Reading state information... Done\n",
            "rar is already the newest version (2:5.5.0-1.1).\n",
            "0 upgraded, 0 newly installed, 0 to remove and 18 not upgraded.\n"
          ]
        }
      ]
    },
    {
      "cell_type": "markdown",
      "metadata": {
        "id": "G24N0obDVaYE"
      },
      "source": [
        "*   First path in below cell - Your Rar File output Name (do not put .rar at the end. It will take it automatically)\n",
        "*   Second path in below cell - Google Drive file location of the files/folder which you want to Rar\n",
        "\n",
        "*If you want to create a password protected rar file, then add \"-p\" flag or Use this command instead of the command in in the cell.\n",
        "(replace the command with the command in the cell) After running the cell, it will ask you to provide the password*\n",
        "\n",
        "* ```\n",
        "!rar a -p \"/content/drive/path/output_file_name\" \"/content/drive/path/input_file_or_folder\"\n",
        "```"
      ]
    },
    {
      "cell_type": "code",
      "metadata": {
        "cellView": "both",
        "id": "WtbqIDwIVaYF",
        "colab": {
          "base_uri": "https://localhost:8080/"
        },
        "outputId": "bd9f60a0-bd1d-4aa0-c5ae-af9a7279f6b7"
      },
      "source": [
        "!rar a -m1 \"/content/drive/MyDrive/1/1 2 Switch[taodung.com].rar\" \"/content/drive/MyDrive/1 2 Switch.xci\""
      ],
      "execution_count": 29,
      "outputs": [
        {
          "output_type": "stream",
          "name": "stdout",
          "text": [
            "\n",
            "RAR 5.50   Copyright (c) 1993-2017 Alexander Roshal   11 Aug 2017\n",
            "Trial version             Type 'rar -?' for help\n",
            "\n",
            "Evaluation copy. Please register.\n",
            "\n",
            "Creating archive /content/drive/MyDrive/1/1 2 Switch[taodung.com].rar\n",
            "\n",
            "Adding    /content/drive/MyDrive/1 2 Switch.xci/1 2 Switch (Card ID Set).bin     \b\b\b\b  0%\b\b\b\b\b  OK \n",
            "Adding    /content/drive/MyDrive/1 2 Switch.xci/1 2 Switch (Certificate).bin     \b\b\b\b  0%\b\b\b\b\b  OK \n",
            "Adding    /content/drive/MyDrive/1 2 Switch.xci/1 2 Switch (Initial Data).bin     \b\b\b\b  0%\b\b\b\b\b  OK \n",
            "Adding    /content/drive/MyDrive/1 2 Switch.xci/1 2 Switch (Card UID).bin     \b\b\b\b  0%\b\b\b\b\b  OK \n",
            "Adding    /content/drive/MyDrive/1 2 Switch.xci/1 2 Switch.xci           \b\b\b\b  0%\b\b\b\b  1%\b\b\b\b  2%\b\b\b\b  3%\b\b\b\b  4%\b\b\b\b  5%\b\b\b\b  6%\b\b\b\b  7%\b\b\b\b  8%\b\b\b\b  9%\b\b\b\b 10%\b\b\b\b 11%\b\b\b\b 12%\b\b\b\b 13%\b\b\b\b 14%\b\b\b\b 15%\b\b\b\b 16%\b\b\b\b 17%\b\b\b\b 18%\b\b\b\b 19%\b\b\b\b 20%\b\b\b\b 21%\b\b\b\b 22%\b\b\b\b 23%\b\b\b\b 24%\b\b\b\b 25%\b\b\b\b 26%\b\b\b\b 27%\b\b\b\b 28%\b\b\b\b 29%\b\b\b\b 30%\b\b\b\b 31%\b\b\b\b 32%\b\b\b\b 33%\b\b\b\b 34%\b\b\b\b 35%\b\b\b\b 36%\b\b\b\b 37%\b\b\b\b 38%\b\b\b\b 39%\b\b\b\b 40%\b\b\b\b 41%\b\b\b\b 42%\b\b\b\b 43%\b\b\b\b 44%\b\b\b\b 45%\b\b\b\b 46%\b\b\b\b 47%\b\b\b\b 48%\b\b\b\b 49%\b\b\b\b 50%\b\b\b\b 51%\b\b\b\b 52%\b\b\b\b 53%\b\b\b\b 54%\b\b\b\b 55%\b\b\b\b 56%\b\b\b\b 57%\b\b\b\b 58%\b\b\b\b 59%\b\b\b\b 60%\b\b\b\b 61%\b\b\b\b 62%\b\b\b\b 63%\b\b\b\b 64%\b\b\b\b 65%\b\b\b\b 66%\b\b\b\b 67%\b\b\b\b 68%\b\b\b\b 69%\b\b\b\b 70%\b\b\b\b 71%\b\b\b\b 72%\b\b\b\b 73%\b\b\b\b 74%\b\b\b\b 75%\b\b\b\b 76%\b\b\b\b 77%\b\b\b\b 78%\b\b\b\b 79%\b\b\b\b 80%\b\b\b\b 81%\b\b\b\b 82%\b\b\b\b 83%\b\b\b\b 84%\b\b\b\b 85%\b\b\b\b 86%\b\b\b\b 87%\b\b\b\b 88%\b\b\b\b 89%\b\b\b\b 90%\b\b\b\b 91%\b\b\b\b 92%\b\b\b\b 93%\b\b\b\b 94%\b\b\b\b 95%\b\b\b\b 96%\b\b\b\b 97%\b\b\b\b 98%\b\b\b\b 99%\b\b\b\b\b  OK \n",
            "Adding    /content/drive/MyDrive/1 2 Switch.xci                          \b\b\b\b\b  OK \n",
            "Done\n"
          ]
        }
      ]
    },
    {
      "cell_type": "markdown",
      "metadata": {
        "id": "Dm58cAVSAFbr"
      },
      "source": [
        "##__Tar Files/Folders__\n",
        "\n"
      ]
    },
    {
      "cell_type": "markdown",
      "metadata": {
        "id": "9aBzSi69AFbt"
      },
      "source": [
        "*   First path in below cell - Your Tar output filename\n",
        "*   Second path in below cell - Google Drive file location of the files which you want to Tar\n",
        "\n",
        " *__Flags__*\n",
        "\n",
        " * -c : Create a new archive\n",
        " * -v : Verbose output\n",
        " * -f : Use the given archive file (name.extention)\n",
        " * -z : Filter the archive through gzip\n",
        " * -j : Filter the archive through bzip2"
      ]
    },
    {
      "cell_type": "code",
      "metadata": {
        "cellView": "both",
        "id": "EjAf_hxSAFbt",
        "colab": {
          "base_uri": "https://localhost:8080/"
        },
        "outputId": "cd16c50c-a2da-4ccf-e7e6-e9e7af62d626"
      },
      "source": [
        "!tar -cvf \"/content/drive/path/output_file_name.tar\" \"/content/drive/path/input_file_or_folder\"     #[run this cell to create tar files]"
      ],
      "execution_count": 17,
      "outputs": [
        {
          "output_type": "stream",
          "name": "stdout",
          "text": [
            "tar: /content/drive/path/output_file_name.tar: Cannot open: No such file or directory\n",
            "tar: Error is not recoverable: exiting now\n"
          ]
        }
      ]
    },
    {
      "cell_type": "code",
      "metadata": {
        "id": "0n-O8xGADZ2o",
        "colab": {
          "base_uri": "https://localhost:8080/"
        },
        "outputId": "fa823cf0-df56-4153-ad96-1c4c39cd8010"
      },
      "source": [
        "!tar -czvf \"/content/drive/path/output_file_name.tar.gz\" \"/content/drive/path/input_file_or_folder\"     #[run this cell to create tar.gz files]"
      ],
      "execution_count": 18,
      "outputs": [
        {
          "output_type": "stream",
          "name": "stdout",
          "text": [
            "tar: Removing leading `/' from member names\n",
            "tar: /content/drive/path/input_file_or_folder: Cannot stat: No such file or directory\n",
            "tar (child): /content/drive/path/output_file_name.tar.gz: Cannot open: No such file or directory\n",
            "tar (child): Error is not recoverable: exiting now\n",
            "tar: Child returned status 2\n",
            "tar: Error is not recoverable: exiting now\n"
          ]
        }
      ]
    },
    {
      "cell_type": "code",
      "metadata": {
        "id": "qjdZ4cTbD8qx",
        "colab": {
          "base_uri": "https://localhost:8080/"
        },
        "outputId": "3ed77a5b-acdc-470a-8970-ab37c9a63d01"
      },
      "source": [
        "!tar -cjvf \"/content/drive/path/output_file_name.tar.bz2\" \"/content/drive/path/input_file_or_folder\"      #[run this cell to create tar.bz2 files]"
      ],
      "execution_count": 19,
      "outputs": [
        {
          "output_type": "stream",
          "name": "stdout",
          "text": [
            "tar: Removing leading `/' from member names\n",
            "tar: /content/drive/path/input_file_or_folder: Cannot stat: No such file or directory\n",
            "tar (child): /content/drive/path/output_file_name.tar.bz2: Cannot open: No such file or directory\n",
            "tar (child): Error is not recoverable: exiting now\n",
            "tar: Child returned status 2\n",
            "tar: Error is not recoverable: exiting now\n"
          ]
        }
      ]
    },
    {
      "cell_type": "markdown",
      "metadata": {
        "id": "mUnldBYjp-sa"
      },
      "source": [
        "# 📚 Follow me on GitHub for more: [_@cheems_](https://github.com/cheems)\n",
        "# 📦 Repo: [Github](https://github.com/cheems/compress-decompress-in-Google-Drive)"
      ]
    }
  ]
}